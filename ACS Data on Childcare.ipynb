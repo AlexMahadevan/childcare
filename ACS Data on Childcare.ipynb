{
 "cells": [
  {
   "cell_type": "markdown",
   "metadata": {},
   "source": [
    "# Childcare Costs in the U.S.\n",
    "## A project by The Penny Hoarder"
   ]
  },
  {
   "cell_type": "code",
   "execution_count": 37,
   "metadata": {},
   "outputs": [],
   "source": [
    "import weightedcalcs as wc\n",
    "\n",
    "import pandas as pd\n",
    "import numpy as np\n",
    "from easymoney.money import EasyPeasy\n",
    "%matplotlib inline\n",
    "pd.set_option('display.float_format', lambda x: '%.3f' % x)"
   ]
  },
  {
   "cell_type": "markdown",
   "metadata": {},
   "source": [
    "### Data Cleaning and Preparation\n",
    "<p>Let's start with the data. We grabbed the 2011 - 2017 annual American Community Survey public use microsamples courtesy of the University of Minnesota."
   ]
  },
  {
   "cell_type": "code",
   "execution_count": 5,
   "metadata": {},
   "outputs": [],
   "source": [
    "acs_raw = pd.read_csv(\"/Users/alexmahadevan/Desktop/childcare/childcare-data.csv\")"
   ]
  },
  {
   "cell_type": "code",
   "execution_count": 6,
   "metadata": {
    "scrolled": true
   },
   "outputs": [
    {
     "name": "stdout",
     "output_type": "stream",
     "text": [
      "<class 'pandas.core.frame.DataFrame'>\n",
      "RangeIndex: 1588798 entries, 0 to 1588797\n",
      "Data columns (total 27 columns):\n",
      "YEAR           1588798 non-null int64\n",
      "SERIAL         1588798 non-null int64\n",
      "MONTH          1588798 non-null int64\n",
      "CPSID          1588798 non-null int64\n",
      "ASECFLAG       1588798 non-null int64\n",
      "HFLAG          199556 non-null float64\n",
      "ASECWTH        1588798 non-null float64\n",
      "STATEFIP       1588798 non-null int64\n",
      "METRO          1588798 non-null int64\n",
      "METAREA        1588798 non-null int64\n",
      "COUNTY         1588798 non-null int64\n",
      "STATECENSUS    1588798 non-null int64\n",
      "PERNUM         1588798 non-null int64\n",
      "CPSIDP         1588798 non-null int64\n",
      "ASECWT         1588798 non-null float64\n",
      "AGE            1588798 non-null int64\n",
      "RACE           1588798 non-null int64\n",
      "MARST          1588798 non-null int64\n",
      "NCHILD         1588798 non-null int64\n",
      "ELDCH          1588798 non-null int64\n",
      "YNGCH          1588798 non-null int64\n",
      "EMPSTAT        1588798 non-null int64\n",
      "OCC            1588798 non-null int64\n",
      "FTOTVAL        1588798 non-null int64\n",
      "OFFPOV         1588798 non-null int64\n",
      "SPMCHXPNS      1588798 non-null float64\n",
      "GOTWIC         1588798 non-null int64\n",
      "dtypes: float64(4), int64(23)\n",
      "memory usage: 327.3 MB\n"
     ]
    }
   ],
   "source": [
    "# Inspect the variables.\n",
    "acs_raw.info()"
   ]
  },
  {
   "cell_type": "code",
   "execution_count": 54,
   "metadata": {},
   "outputs": [],
   "source": [
    "# Let's add a variable for the ratio of childcare spending to total family income.\n",
    "acs_raw[\"childcare_spending_ratio\"] = acs_raw[\"SPMCHXPNS\"] / acs_raw[\"FTOTVAL\"]"
   ]
  },
  {
   "cell_type": "code",
   "execution_count": 55,
   "metadata": {},
   "outputs": [],
   "source": [
    "# We need to set a weight for weightedcalcs to do its survey magic.\n",
    "calc = wc.Calculator(\"ASECWT\")"
   ]
  },
  {
   "cell_type": "code",
   "execution_count": 78,
   "metadata": {},
   "outputs": [],
   "source": [
    "# Filter the dataset down to the respondents who have a single child under 6 years old.\n",
    "# We do this to isolate a single child's costs, since there might be economies of scale for -\n",
    "# multiple-child households.\n",
    "acs_one_child = acs_raw[acs_raw[\"NCHILD\"] == 1]\n",
    "acs_toddler = acs_one_child[acs_one_child[\"ELDCH\"] < 6]\n",
    "acs_pay_childcare = acs_toddler[acs_toddler[\"SPMCHXPNS\"] > 0]\n",
    "acs_have_income = acs_pay_childcare[acs_pay_childcare[\"FTOTVAL\"] > 0]\n",
    "acs_filter = acs_have_income[acs_have_income[\"PERNUM\"] == 1]"
   ]
  },
  {
   "cell_type": "code",
   "execution_count": 79,
   "metadata": {},
   "outputs": [],
   "source": [
    "# Now filter by year so we can compare across years. (Note: data on childcare costs starts in 2011)\n",
    "acs_filter_2011 = acs_filter[acs_filter[\"YEAR\"] == 2011]\n",
    "acs_filter_2012 = acs_filter[acs_filter[\"YEAR\"] == 2012]\n",
    "acs_filter_2013 = acs_filter[acs_filter[\"YEAR\"] == 2013]\n",
    "acs_filter_2014 = acs_filter[acs_filter[\"YEAR\"] == 2014]\n",
    "acs_filter_2015 = acs_filter[acs_filter[\"YEAR\"] == 2015]\n",
    "acs_filter_2016 = acs_filter[acs_filter[\"YEAR\"] == 2016]\n",
    "acs_filter_2017 = acs_filter[acs_filter[\"YEAR\"] == 2017]"
   ]
  },
  {
   "cell_type": "code",
   "execution_count": 108,
   "metadata": {},
   "outputs": [],
   "source": [
    "# What were average childcare costs for a family with a single child under 6 in 2011?\n",
    "medianchildcarecost2011 = calc.median(acs_filter_2011, \"SPMCHXPNS\")"
   ]
  },
  {
   "cell_type": "code",
   "execution_count": 109,
   "metadata": {},
   "outputs": [],
   "source": [
    "# What were average childcare costs for a family with a single child under 6 in 2017?\n",
    "medianchildcarecost2017 = calc.median(acs_filter_2017, \"SPMCHXPNS\")"
   ]
  },
  {
   "cell_type": "code",
   "execution_count": 110,
   "metadata": {},
   "outputs": [],
   "source": [
    "# We need to convert those 2011 dollars to current using the CPI-U courtsy of the U.S. Bureau of Labor Staistics.\n",
    "# Let's go ahead and caluclate the CPI for all years.\n",
    "CPU2017 = 361\n",
    "CPU2016 = 353.4\n",
    "CPU2015 = 348.9\n",
    "CPU2014 = 348.3\n",
    "CPU2013 = 342.5\n",
    "CPU2012 = 337.5\n",
    "CPU2011 = 330.5\n",
    "InflationCalc2011to2017 = CPU2017 / CPU2011\n",
    "InflationCalc2012to2017 = CPU2017 / CPU2012\n",
    "InflationCalc2013to2017 = CPU2017 / CPU2013\n",
    "InflationCalc2014to2017 = CPU2017 / CPU2014\n",
    "InflationCalc2015to2017 = CPU2017 / CPU2015\n",
    "InflationCalc2016to2017 = CPU2017 / CPU2016"
   ]
  },
  {
   "cell_type": "code",
   "execution_count": 111,
   "metadata": {},
   "outputs": [],
   "source": [
    "# Let's adjust it.\n",
    "adjmedianchildcarecost2011 = medianchildcarecost2011 * InflationCalc2011to2017"
   ]
  },
  {
   "cell_type": "code",
   "execution_count": 112,
   "metadata": {},
   "outputs": [
    {
     "data": {
      "text/plain": [
       "0.26951061865189296"
      ]
     },
     "execution_count": 112,
     "metadata": {},
     "output_type": "execute_result"
    }
   ],
   "source": [
    "# How much more expensive has childcare for a child under 6 gotten in the last 6 years?\n",
    "(medianchildcarecost2017 - adjmedianchildcarecost2011) / adjmedianchildcarecost2011"
   ]
  },
  {
   "cell_type": "code",
   "execution_count": 113,
   "metadata": {},
   "outputs": [],
   "source": [
    "# Has income kept up with it?\n",
    "medianhhincome2011 = calc.median(acs_filter_2011, \"FTOTVAL\")\n",
    "medianhhincome2017 = calc.median(acs_filter_2017, \"FTOTVAL\")"
   ]
  },
  {
   "cell_type": "code",
   "execution_count": 114,
   "metadata": {},
   "outputs": [],
   "source": [
    "adjmedianhhincome2011 = medianhhincome2011 * InflationCalc2011to2017"
   ]
  },
  {
   "cell_type": "code",
   "execution_count": 115,
   "metadata": {},
   "outputs": [
    {
     "data": {
      "text/plain": [
       "0.08289035302311835"
      ]
     },
     "execution_count": 115,
     "metadata": {},
     "output_type": "execute_result"
    }
   ],
   "source": [
    "# How much has median income risen in the last 6 years?\n",
    "(avghhincome2017 - adjavghhincome2011) / adjavghhincome2011"
   ]
  },
  {
   "cell_type": "code",
   "execution_count": 116,
   "metadata": {},
   "outputs": [],
   "source": [
    "# The amount spent on childcare has outpaced the growth in income by three percentage points."
   ]
  },
  {
   "cell_type": "code",
   "execution_count": 117,
   "metadata": {},
   "outputs": [
    {
     "data": {
      "text/plain": [
       "0.06258977218927789"
      ]
     },
     "execution_count": 117,
     "metadata": {},
     "output_type": "execute_result"
    }
   ],
   "source": [
    "# What's the median amount of someone's family income they spend on childcare.\n",
    "calc.median(acs_filter_2017, \"childcare_spending_ratio\")"
   ]
  },
  {
   "cell_type": "code",
   "execution_count": 118,
   "metadata": {},
   "outputs": [
    {
     "data": {
      "text/plain": [
       "0.05698835274542429"
      ]
     },
     "execution_count": 118,
     "metadata": {},
     "output_type": "execute_result"
    }
   ],
   "source": [
    "# Has it changed since 2011?\n",
    "calc.median(acs_filter_2011, \"childcare_spending_ratio\")"
   ]
  },
  {
   "cell_type": "code",
   "execution_count": 119,
   "metadata": {},
   "outputs": [],
   "source": [
    "# It's gone up a bit."
   ]
  },
  {
   "cell_type": "code",
   "execution_count": null,
   "metadata": {},
   "outputs": [],
   "source": []
  }
 ],
 "metadata": {
  "kernelspec": {
   "display_name": "Python 3",
   "language": "python",
   "name": "python3"
  },
  "language_info": {
   "codemirror_mode": {
    "name": "ipython",
    "version": 3
   },
   "file_extension": ".py",
   "mimetype": "text/x-python",
   "name": "python",
   "nbconvert_exporter": "python",
   "pygments_lexer": "ipython3",
   "version": "3.6.1"
  }
 },
 "nbformat": 4,
 "nbformat_minor": 2
}
